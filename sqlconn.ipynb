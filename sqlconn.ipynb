{
 "cells": [
  {
   "cell_type": "code",
   "execution_count": 1,
   "metadata": {},
   "outputs": [],
   "source": [
    "#importing libraries\n",
    "import pandas as pd\n",
    "import mysql.connector\n",
    "import numpy as np"
   ]
  },
  {
   "cell_type": "code",
   "execution_count": 2,
   "metadata": {},
   "outputs": [
    {
     "data": {
      "text/html": [
       "<div>\n",
       "<style scoped>\n",
       "    .dataframe tbody tr th:only-of-type {\n",
       "        vertical-align: middle;\n",
       "    }\n",
       "\n",
       "    .dataframe tbody tr th {\n",
       "        vertical-align: top;\n",
       "    }\n",
       "\n",
       "    .dataframe thead th {\n",
       "        text-align: right;\n",
       "    }\n",
       "</style>\n",
       "<table border=\"1\" class=\"dataframe\">\n",
       "  <thead>\n",
       "    <tr style=\"text-align: right;\">\n",
       "      <th></th>\n",
       "      <th>Bus_name</th>\n",
       "      <th>Bus_type</th>\n",
       "      <th>Start_time</th>\n",
       "      <th>End_time</th>\n",
       "      <th>Total_duration</th>\n",
       "      <th>Price</th>\n",
       "      <th>Seats_Available</th>\n",
       "      <th>Ratings</th>\n",
       "      <th>Route_link</th>\n",
       "      <th>Route_name</th>\n",
       "    </tr>\n",
       "  </thead>\n",
       "  <tbody>\n",
       "    <tr>\n",
       "      <th>0</th>\n",
       "      <td>KSRTC (Kerala) - 1586</td>\n",
       "      <td>Super Deluxe Non AC Seater Air Bus (2+2)</td>\n",
       "      <td>21:31</td>\n",
       "      <td>06:36</td>\n",
       "      <td>09h 05m</td>\n",
       "      <td>INR 640</td>\n",
       "      <td>3 Seats available</td>\n",
       "      <td>3.2\\n30</td>\n",
       "      <td>https://www.redbus.in/bus-tickets/bangalore-to...</td>\n",
       "      <td>Bangalore to Kozhikode</td>\n",
       "    </tr>\n",
       "    <tr>\n",
       "      <th>1</th>\n",
       "      <td>KSRTC (Kerala) - 2133</td>\n",
       "      <td>Swift Deluxe Non AC Air Bus (2+2)</td>\n",
       "      <td>22:12</td>\n",
       "      <td>07:36</td>\n",
       "      <td>09h 24m</td>\n",
       "      <td>INR 640</td>\n",
       "      <td>4 Seats available</td>\n",
       "      <td>3.7\\n8</td>\n",
       "      <td>https://www.redbus.in/bus-tickets/bangalore-to...</td>\n",
       "      <td>Bangalore to Kozhikode</td>\n",
       "    </tr>\n",
       "    <tr>\n",
       "      <th>2</th>\n",
       "      <td>KSRTC (Kerala) - 1064</td>\n",
       "      <td>Super Fast Non AC Seater (2+3)</td>\n",
       "      <td>23:45</td>\n",
       "      <td>09:50</td>\n",
       "      <td>10h 05m</td>\n",
       "      <td>INR 473</td>\n",
       "      <td>37 Seats available</td>\n",
       "      <td>4.1\\n8</td>\n",
       "      <td>https://www.redbus.in/bus-tickets/bangalore-to...</td>\n",
       "      <td>Bangalore to Kozhikode</td>\n",
       "    </tr>\n",
       "    <tr>\n",
       "      <th>3</th>\n",
       "      <td>MMK Travels</td>\n",
       "      <td>VE A/C Seater / Sleeper (2+1)</td>\n",
       "      <td>22:30</td>\n",
       "      <td>07:30</td>\n",
       "      <td>09h 00m</td>\n",
       "      <td>INR 700</td>\n",
       "      <td>1 Seat available</td>\n",
       "      <td>4.4\\n465</td>\n",
       "      <td>https://www.redbus.in/bus-tickets/bangalore-to...</td>\n",
       "      <td>Bangalore to Kozhikode</td>\n",
       "    </tr>\n",
       "    <tr>\n",
       "      <th>4</th>\n",
       "      <td>Silver Line Travels</td>\n",
       "      <td>NON A/C Semi Sleeper (2+2)</td>\n",
       "      <td>22:00</td>\n",
       "      <td>06:10</td>\n",
       "      <td>08h 10m</td>\n",
       "      <td>INR 599</td>\n",
       "      <td>10 Seats available</td>\n",
       "      <td>4.5\\n293</td>\n",
       "      <td>https://www.redbus.in/bus-tickets/bangalore-to...</td>\n",
       "      <td>Bangalore to Kozhikode</td>\n",
       "    </tr>\n",
       "    <tr>\n",
       "      <th>...</th>\n",
       "      <td>...</td>\n",
       "      <td>...</td>\n",
       "      <td>...</td>\n",
       "      <td>...</td>\n",
       "      <td>...</td>\n",
       "      <td>...</td>\n",
       "      <td>...</td>\n",
       "      <td>...</td>\n",
       "      <td>...</td>\n",
       "      <td>...</td>\n",
       "    </tr>\n",
       "    <tr>\n",
       "      <th>14769</th>\n",
       "      <td>SBSTC-HABRA - DIGHA - VIA - NIBEDITA SETU - 05...</td>\n",
       "      <td>Non AC Seater (2+3)</td>\n",
       "      <td>05:40</td>\n",
       "      <td>00:00</td>\n",
       "      <td>18h 20m</td>\n",
       "      <td>INR 159</td>\n",
       "      <td>5 Seats available</td>\n",
       "      <td>4.4</td>\n",
       "      <td>https://www.redbus.in/bus-tickets/habra-to-con...</td>\n",
       "      <td>Habra to Contai (Kanthi)</td>\n",
       "    </tr>\n",
       "    <tr>\n",
       "      <th>14770</th>\n",
       "      <td>SBSTC-BONGAON - DIGHA - VIA - BARASAT - 05:15 ...</td>\n",
       "      <td>Non AC Seater (2+3)</td>\n",
       "      <td>06:30</td>\n",
       "      <td>00:00</td>\n",
       "      <td>17h 30m</td>\n",
       "      <td>INR 159</td>\n",
       "      <td>43 Seats available</td>\n",
       "      <td>4.4</td>\n",
       "      <td>https://www.redbus.in/bus-tickets/habra-to-con...</td>\n",
       "      <td>Habra to Contai (Kanthi)</td>\n",
       "    </tr>\n",
       "    <tr>\n",
       "      <th>14771</th>\n",
       "      <td>WBTC (CTC) Habra-Midnapur - 194|05:25</td>\n",
       "      <td>Non AC Seater (2+3)</td>\n",
       "      <td>05:25</td>\n",
       "      <td>09:35</td>\n",
       "      <td>04h 10m</td>\n",
       "      <td>INR 138</td>\n",
       "      <td>49 Seats available</td>\n",
       "      <td>4.1</td>\n",
       "      <td>https://www.redbus.in/bus-tickets/habra-to-mid...</td>\n",
       "      <td>Habra to Midnapore</td>\n",
       "    </tr>\n",
       "    <tr>\n",
       "      <th>14772</th>\n",
       "      <td>WBTC (CTC) Habra-Midnapur - 194|05:55</td>\n",
       "      <td>Non AC Seater (2+3)</td>\n",
       "      <td>05:55</td>\n",
       "      <td>10:15</td>\n",
       "      <td>04h 20m</td>\n",
       "      <td>INR 138</td>\n",
       "      <td>24 Seats available</td>\n",
       "      <td>4.1\\n21</td>\n",
       "      <td>https://www.redbus.in/bus-tickets/habra-to-mid...</td>\n",
       "      <td>Habra to Midnapore</td>\n",
       "    </tr>\n",
       "    <tr>\n",
       "      <th>14773</th>\n",
       "      <td>SBSTC-HABRA - MIDNAPUR - 06:20 (MID DEPOT) - 1398</td>\n",
       "      <td>Non AC Seater (2+3)</td>\n",
       "      <td>06:20</td>\n",
       "      <td>00:00</td>\n",
       "      <td>17h 40m</td>\n",
       "      <td>INR 143</td>\n",
       "      <td>43 Seats available</td>\n",
       "      <td>4.6\\n17</td>\n",
       "      <td>https://www.redbus.in/bus-tickets/habra-to-mid...</td>\n",
       "      <td>Habra to Midnapore</td>\n",
       "    </tr>\n",
       "  </tbody>\n",
       "</table>\n",
       "<p>14774 rows × 10 columns</p>\n",
       "</div>"
      ],
      "text/plain": [
       "                                                Bus_name  \\\n",
       "0                                  KSRTC (Kerala) - 1586   \n",
       "1                                  KSRTC (Kerala) - 2133   \n",
       "2                                  KSRTC (Kerala) - 1064   \n",
       "3                                            MMK Travels   \n",
       "4                                    Silver Line Travels   \n",
       "...                                                  ...   \n",
       "14769  SBSTC-HABRA - DIGHA - VIA - NIBEDITA SETU - 05...   \n",
       "14770  SBSTC-BONGAON - DIGHA - VIA - BARASAT - 05:15 ...   \n",
       "14771              WBTC (CTC) Habra-Midnapur - 194|05:25   \n",
       "14772              WBTC (CTC) Habra-Midnapur - 194|05:55   \n",
       "14773  SBSTC-HABRA - MIDNAPUR - 06:20 (MID DEPOT) - 1398   \n",
       "\n",
       "                                       Bus_type Start_time End_time  \\\n",
       "0      Super Deluxe Non AC Seater Air Bus (2+2)      21:31    06:36   \n",
       "1             Swift Deluxe Non AC Air Bus (2+2)      22:12    07:36   \n",
       "2                Super Fast Non AC Seater (2+3)      23:45    09:50   \n",
       "3                 VE A/C Seater / Sleeper (2+1)      22:30    07:30   \n",
       "4                    NON A/C Semi Sleeper (2+2)      22:00    06:10   \n",
       "...                                         ...        ...      ...   \n",
       "14769                       Non AC Seater (2+3)      05:40    00:00   \n",
       "14770                       Non AC Seater (2+3)      06:30    00:00   \n",
       "14771                       Non AC Seater (2+3)      05:25    09:35   \n",
       "14772                       Non AC Seater (2+3)      05:55    10:15   \n",
       "14773                       Non AC Seater (2+3)      06:20    00:00   \n",
       "\n",
       "      Total_duration    Price     Seats_Available   Ratings  \\\n",
       "0            09h 05m  INR 640   3 Seats available   3.2\\n30   \n",
       "1            09h 24m  INR 640   4 Seats available    3.7\\n8   \n",
       "2            10h 05m  INR 473  37 Seats available    4.1\\n8   \n",
       "3            09h 00m  INR 700    1 Seat available  4.4\\n465   \n",
       "4            08h 10m  INR 599  10 Seats available  4.5\\n293   \n",
       "...              ...      ...                 ...       ...   \n",
       "14769        18h 20m  INR 159   5 Seats available       4.4   \n",
       "14770        17h 30m  INR 159  43 Seats available       4.4   \n",
       "14771        04h 10m  INR 138  49 Seats available       4.1   \n",
       "14772        04h 20m  INR 138  24 Seats available   4.1\\n21   \n",
       "14773        17h 40m  INR 143  43 Seats available   4.6\\n17   \n",
       "\n",
       "                                              Route_link  \\\n",
       "0      https://www.redbus.in/bus-tickets/bangalore-to...   \n",
       "1      https://www.redbus.in/bus-tickets/bangalore-to...   \n",
       "2      https://www.redbus.in/bus-tickets/bangalore-to...   \n",
       "3      https://www.redbus.in/bus-tickets/bangalore-to...   \n",
       "4      https://www.redbus.in/bus-tickets/bangalore-to...   \n",
       "...                                                  ...   \n",
       "14769  https://www.redbus.in/bus-tickets/habra-to-con...   \n",
       "14770  https://www.redbus.in/bus-tickets/habra-to-con...   \n",
       "14771  https://www.redbus.in/bus-tickets/habra-to-mid...   \n",
       "14772  https://www.redbus.in/bus-tickets/habra-to-mid...   \n",
       "14773  https://www.redbus.in/bus-tickets/habra-to-mid...   \n",
       "\n",
       "                     Route_name  \n",
       "0        Bangalore to Kozhikode  \n",
       "1        Bangalore to Kozhikode  \n",
       "2        Bangalore to Kozhikode  \n",
       "3        Bangalore to Kozhikode  \n",
       "4        Bangalore to Kozhikode  \n",
       "...                         ...  \n",
       "14769  Habra to Contai (Kanthi)  \n",
       "14770  Habra to Contai (Kanthi)  \n",
       "14771        Habra to Midnapore  \n",
       "14772        Habra to Midnapore  \n",
       "14773        Habra to Midnapore  \n",
       "\n",
       "[14774 rows x 10 columns]"
      ]
     },
     "execution_count": 2,
     "metadata": {},
     "output_type": "execute_result"
    }
   ],
   "source": [
    "# csv to dataframe\n",
    "df_buses_1=pd.read_csv(\"df_buses_1.csv\")\n",
    "df_buses_2=pd.read_csv(\"df_buses_2.csv\")\n",
    "df_buses_3=pd.read_csv(\"df_buses_3.csv\")\n",
    "df_buses_4=pd.read_csv(\"df_buses_4.csv\")\n",
    "df_buses_5=pd.read_csv(\"df_buses_R.csv\")\n",
    "df_buses_6=pd.read_csv(\"df_buses_SB.csv\")\n",
    "df_buses_7=pd.read_csv(\"df_buses_H.csv\")\n",
    "df_buses_8=pd.read_csv(\"df_buses_AS.csv\")\n",
    "df_buses_9=pd.read_csv(\"df_buses_9.csv\")\n",
    "df_buses_10=pd.read_csv(\"df_buses_10.csv\")\n",
    "\n",
    "Final_df=pd.concat([df_buses_1,df_buses_2,df_buses_3,df_buses_4,df_buses_5,df_buses_6,\n",
    "                    df_buses_7,df_buses_8,df_buses_9,df_buses_10],ignore_index=True)\n",
    "Final_df"
   ]
  },
  {
   "cell_type": "markdown",
   "metadata": {},
   "source": [
    "# Data cleaning"
   ]
  },
  {
   "cell_type": "code",
   "execution_count": 3,
   "metadata": {},
   "outputs": [
    {
     "name": "stdout",
     "output_type": "stream",
     "text": [
      "<class 'pandas.core.frame.DataFrame'>\n",
      "RangeIndex: 14774 entries, 0 to 14773\n",
      "Data columns (total 10 columns):\n",
      " #   Column           Non-Null Count  Dtype \n",
      "---  ------           --------------  ----- \n",
      " 0   Bus_name         14774 non-null  object\n",
      " 1   Bus_type         14774 non-null  object\n",
      " 2   Start_time       14774 non-null  object\n",
      " 3   End_time         14774 non-null  object\n",
      " 4   Total_duration   14774 non-null  object\n",
      " 5   Price            14774 non-null  object\n",
      " 6   Seats_Available  14774 non-null  object\n",
      " 7   Ratings          14774 non-null  object\n",
      " 8   Route_link       14774 non-null  object\n",
      " 9   Route_name       14763 non-null  object\n",
      "dtypes: object(10)\n",
      "memory usage: 1.1+ MB\n"
     ]
    }
   ],
   "source": [
    "# data about the data\n",
    "Final_df.info()"
   ]
  },
  {
   "cell_type": "code",
   "execution_count": 4,
   "metadata": {},
   "outputs": [
    {
     "data": {
      "text/plain": [
       "0        640.0\n",
       "1        640.0\n",
       "2        473.0\n",
       "3        700.0\n",
       "4        599.0\n",
       "         ...  \n",
       "14769    159.0\n",
       "14770    159.0\n",
       "14771    138.0\n",
       "14772    138.0\n",
       "14773    143.0\n",
       "Name: Price, Length: 14774, dtype: float64"
      ]
     },
     "execution_count": 4,
     "metadata": {},
     "output_type": "execute_result"
    }
   ],
   "source": [
    "#convert prices to numeric\n",
    "Final_df[\"Price\"]=Final_df[\"Price\"].str.replace(\"INR\",\"\")\n",
    "Final_df[\"Price\"]=Final_df[\"Price\"].astype(float)\n",
    "Final_df[\"Price\"].fillna(0) \n"
   ]
  },
  {
   "cell_type": "code",
   "execution_count": null,
   "metadata": {},
   "outputs": [],
   "source": [
    "#convert Ratings to numeric\n",
    "Final_df[\"Ratings\"]=Final_df[\"Ratings\"].str.replace(\"New\",\"\")\n",
    "Final_df[\"Ratings\"]=Final_df[\"Ratings\"].str.strip()\n",
    "Final_df[\"Ratings\"]=Final_df[\"Ratings\"].str.split().str[0]\n",
    "Final_df[\"Ratings\"] = pd.to_numeric(Final_df[\"Ratings\"], errors='coerce')\n",
    "Final_df[\"Ratings\"].fillna(0,inplace=True) \n"
   ]
  },
  {
   "cell_type": "code",
   "execution_count": 6,
   "metadata": {},
   "outputs": [
    {
     "name": "stdout",
     "output_type": "stream",
     "text": [
      "<class 'pandas.core.frame.DataFrame'>\n",
      "RangeIndex: 14774 entries, 0 to 14773\n",
      "Data columns (total 10 columns):\n",
      " #   Column           Non-Null Count  Dtype  \n",
      "---  ------           --------------  -----  \n",
      " 0   Bus_name         14774 non-null  object \n",
      " 1   Bus_type         14774 non-null  object \n",
      " 2   Start_time       14774 non-null  object \n",
      " 3   End_time         14774 non-null  object \n",
      " 4   Total_duration   14774 non-null  object \n",
      " 5   Price            14774 non-null  float64\n",
      " 6   Seats_Available  14774 non-null  object \n",
      " 7   Ratings          14774 non-null  float64\n",
      " 8   Route_link       14774 non-null  object \n",
      " 9   Route_name       14763 non-null  object \n",
      "dtypes: float64(2), object(8)\n",
      "memory usage: 1.1+ MB\n"
     ]
    }
   ],
   "source": [
    "# info after the data type change\n",
    "Final_df.info()"
   ]
  },
  {
   "cell_type": "code",
   "execution_count": 7,
   "metadata": {},
   "outputs": [],
   "source": [
    "Final_df = Final_df[Final_df[\"Price\"] <= 7000]"
   ]
  },
  {
   "cell_type": "code",
   "execution_count": 10,
   "metadata": {},
   "outputs": [],
   "source": [
    "# replacing the nan value\n",
    "Final_df = Final_df.replace({np.nan: None})"
   ]
  },
  {
   "cell_type": "code",
   "execution_count": 11,
   "metadata": {},
   "outputs": [],
   "source": [
    "# change dataframe to csv\n",
    "path=r\"C:/Users/Kavitha/Desktop/CAPSTONE PROJECT/redbus/Final_busdetails_df.csv\"\n",
    "Final_df.to_csv(path,index=False)"
   ]
  },
  {
   "cell_type": "markdown",
   "metadata": {},
   "source": [
    "# Create a mysql database"
   ]
  },
  {
   "cell_type": "code",
   "execution_count": 12,
   "metadata": {},
   "outputs": [],
   "source": [
    "#sql connection\n",
    "conn=mysql.connector.connect(host=\"localhost\", user=\"root\", password=\"kavi\",database=\"RED_BUS_DETAILS\")\n",
    "my_cursor = conn.cursor()\n",
    "my_cursor.execute(\"CREATE DATABASE IF NOT EXISTS RED_BUS_DETAILS\")"
   ]
  },
  {
   "cell_type": "code",
   "execution_count": 13,
   "metadata": {},
   "outputs": [
    {
     "name": "stdout",
     "output_type": "stream",
     "text": [
      "Table Created successfully\n"
     ]
    }
   ],
   "source": [
    "# Table Creation\n",
    "my_cursor.execute('''CREATE TABLE IF NOT EXISTS bus_details(\n",
    "                  ID INT AUTO_INCREMENT PRIMARY KEY,\n",
    "                  Bus_name VARCHAR(255) NOT NULL,\n",
    "                  Bus_type VARCHAR(255) NOT NULL,\n",
    "                  Start_time VARCHAR(255) NOT NULL,\n",
    "                  End_time VARCHAR(255) NOT NULL,\n",
    "                  Total_duration VARCHAR(255) NOT NULL,\n",
    "                  Price FLOAT NULL,\n",
    "                  Seats_Available VARCHAR(255) NOT NULL,\n",
    "                  Ratings Float NULL,\n",
    "                  Route_link VARCHAR(255) NULL,\n",
    "                  Route_name VARCHAR(255) NULL\n",
    "                  )''')\n",
    "print(\"Table Created successfully\")"
   ]
  },
  {
   "cell_type": "code",
   "execution_count": 14,
   "metadata": {},
   "outputs": [
    {
     "name": "stdout",
     "output_type": "stream",
     "text": [
      "Values inserted successfully\n"
     ]
    }
   ],
   "source": [
    "# SQL query to insert data into bus_details table\n",
    "insert_query = '''INSERT INTO bus_details(\n",
    "                    Bus_name,\n",
    "                    Bus_type,\n",
    "                    Start_time,\n",
    "                    End_time,\n",
    "                    Total_duration,\n",
    "                    Price,\n",
    "                    Seats_Available,\n",
    "                    Ratings,\n",
    "                    Route_link,\n",
    "                    Route_name)\n",
    "                  VALUES(%s, %s, %s, %s, %s, %s, %s, %s, %s, %s)'''\n",
    "data = Final_df.values.tolist()\n",
    "\n",
    "my_cursor.executemany(insert_query, data)\n",
    "\n",
    "conn.commit()\n",
    "\n",
    "print(\"Values inserted successfully\")\n"
   ]
  }
 ],
 "metadata": {
  "kernelspec": {
   "display_name": "Python 3",
   "language": "python",
   "name": "python3"
  },
  "language_info": {
   "codemirror_mode": {
    "name": "ipython",
    "version": 3
   },
   "file_extension": ".py",
   "mimetype": "text/x-python",
   "name": "python",
   "nbconvert_exporter": "python",
   "pygments_lexer": "ipython3",
   "version": "3.12.2"
  }
 },
 "nbformat": 4,
 "nbformat_minor": 2
}
